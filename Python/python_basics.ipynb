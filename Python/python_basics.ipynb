{
 "cells": [
  {
   "cell_type": "code",
   "execution_count": null,
   "id": "3d941cae-2761-4782-a628-0c2bf3be105a",
   "metadata": {},
   "outputs": [],
   "source": [
    "# Variables and Data Types\n",
    "# Variables are used to store information that can be referenced and manipulated in a program.\n",
    "\n",
    "my_var = 5\n",
    "print(\"Variable example:\", my_var)\n",
    "\n",
    "# Python supports several types of data types: integers, floating-point, strings, and booleans.\n",
    "\n",
    "integer_example = 10\n",
    "float_example = 10.5\n",
    "string_example = \"Hello, Python!\"\n",
    "boolean_example = True\n",
    "\n",
    "print(\"Integer example:\", integer_example)\n",
    "print(\"Float example:\", float_example)\n",
    "print(\"String example:\", string_example)\n",
    "print(\"Boolean example:\", boolean_example)\n"
   ]
  },
  {
   "cell_type": "code",
   "execution_count": null,
   "id": "7bd88caa-7904-4afa-b085-4d64d715f15e",
   "metadata": {},
   "outputs": [],
   "source": [
    "# Basic Operations\n",
    "# Python supports basic arithmetic operations like addition, subtraction, multiplication, and division.\n",
    "\n",
    "addition = 5 + 3\n",
    "subtraction = 5 - 3\n",
    "multiplication = 5 * 3\n",
    "division = 5 / 3\n",
    "\n",
    "print(\"Addition example:\", addition)\n",
    "print(\"Subtraction example:\", subtraction)\n",
    "print(\"Multiplication example:\", multiplication)\n",
    "print(\"Division example:\", division)\n",
    "\n",
    "# Python also supports string operations like concatenation.\n",
    "\n",
    "concatenated_string = \"Hello, \" + \"world!\"\n",
    "print(\"Concatenated string:\", concatenated_string)\n"
   ]
  },
  {
   "cell_type": "code",
   "execution_count": 1,
   "id": "810bb507-42ae-40d4-b4dd-7165cc59a40e",
   "metadata": {},
   "outputs": [
    {
     "name": "stdout",
     "output_type": "stream",
     "text": [
      "Variable example: 5\n",
      "Integer example: 10\n",
      "Float example: 10.5\n",
      "String example: Hello, Python!\n",
      "Boolean example: True\n",
      "Addition example: 8\n",
      "Subtraction example: 2\n",
      "Multiplication example: 15\n",
      "Division example: 1.6666666666666667\n",
      "Concatenated string: Hello, world!\n",
      "x is greater than 5\n",
      "For loop iteration: 0\n",
      "For loop iteration: 1\n",
      "For loop iteration: 2\n",
      "For loop iteration: 3\n",
      "For loop iteration: 4\n",
      "While loop iteration: 0\n",
      "While loop iteration: 1\n",
      "While loop iteration: 2\n",
      "While loop iteration: 3\n",
      "While loop iteration: 4\n"
     ]
    }
   ],
   "source": [
    "\n",
    "# Control Structures\n",
    "# Python uses control structures such as if statements for decision-making processes within the program.\n",
    "\n",
    "x = 10\n",
    "if x > 5:\n",
    "    print(\"x is greater than 5\")\n",
    "elif x == 5:\n",
    "    print(\"x is equal to 5\")\n",
    "else:\n",
    "    print(\"x is less than 5\")\n",
    "\n",
    "# For loops in Python are used for iterating over a sequence (such as a list, tuple, dictionary, set, or string).\n",
    "\n",
    "for i in range(5):  # range(5) generates numbers from 0 to 4.\n",
    "    print(\"For loop iteration:\", i)\n",
    "\n",
    "# While loops in Python repeat as long as a certain boolean condition is met.\n",
    "\n",
    "count = 0\n",
    "while count < 5:\n",
    "    print(\"While loop iteration:\", count)\n",
    "    count += 1  # This is equivalent to count = count + 1\n",
    "\n",
    "# This Python notebook section covers from basic syntax and data types to control structures and loops in Python.\n"
   ]
  },
  {
   "cell_type": "code",
   "execution_count": null,
   "id": "aeaf3b47-0853-4e84-b836-1f973e807089",
   "metadata": {},
   "outputs": [],
   "source": []
  }
 ],
 "metadata": {
  "kernelspec": {
   "display_name": "Python 3 (ipykernel)",
   "language": "python",
   "name": "python3"
  },
  "language_info": {
   "codemirror_mode": {
    "name": "ipython",
    "version": 3
   },
   "file_extension": ".py",
   "mimetype": "text/x-python",
   "name": "python",
   "nbconvert_exporter": "python",
   "pygments_lexer": "ipython3",
   "version": "3.11.5"
  }
 },
 "nbformat": 4,
 "nbformat_minor": 5
}

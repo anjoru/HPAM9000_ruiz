{
 "cells": [
  {
   "cell_type": "code",
   "execution_count": null,
   "id": "c0f82b42",
   "metadata": {},
   "outputs": [],
   "source": [
    "# Set the display option to show all columns\n",
    "#pd.set_option('display.max_columns', None)\n",
    "# Read the txt file into a pandas DataFrame\n",
    "df = pd.read_csv('data/raw_data/West_Nile_Virus__WNV__Mosquito_Test_Results.csv')\n",
    "\n",
    "# Display the first few rows of the DataFrame\n",
    "df.head()\n"
   ]
  },
  {
   "cell_type": "markdown",
   "id": "1e7b986d",
   "metadata": {},
   "source": [
    "this is a test"
   ]
  }
 ],
 "metadata": {
  "celltoolbar": "Raw Cell Format",
  "kernelspec": {
   "display_name": "Python 3 (ipykernel)",
   "language": "python",
   "name": "python3"
  },
  "language_info": {
   "codemirror_mode": {
    "name": "ipython",
    "version": 3
   },
   "file_extension": ".py",
   "mimetype": "text/x-python",
   "name": "python",
   "nbconvert_exporter": "python",
   "pygments_lexer": "ipython3",
   "version": "3.11.5"
  }
 },
 "nbformat": 4,
 "nbformat_minor": 5
}
